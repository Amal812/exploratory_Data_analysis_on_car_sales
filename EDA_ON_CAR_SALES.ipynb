{
 "cells": [
  {
   "cell_type": "markdown",
   "metadata": {},
   "source": [
    "### Analyzing and visualizinge car sales data in pandas, exploringe the correlation between sales,price,models and location etc. data analysis using python libraries."
   ]
  },
  {
   "cell_type": "markdown",
   "metadata": {},
   "source": [
    "### importing data libraries "
   ]
  },
  {
   "cell_type": "code",
   "execution_count": 1,
   "metadata": {},
   "outputs": [],
   "source": [
    "import pandas as pd\n",
    "import numpy as np\n",
    "import matplotlib.pyplot as plt\n",
    "import seaborn as sns\n"
   ]
  },
  {
   "cell_type": "markdown",
   "metadata": {},
   "source": [
    "### loaded the first 10 data and last 10.\n",
    "To take the first 10 data used .head(10) function and used .tail(10) function to take last 10 data."
   ]
  },
  {
   "cell_type": "code",
   "execution_count": 2,
   "metadata": {},
   "outputs": [
    {
     "name": "stdout",
     "output_type": "stream",
     "text": [
      "   year       make    model      trim   body transmission         vin state  \\\n",
      "0  2007     Toyota   Malibu  Off-Road  Truck       Manual  1897112983    TX   \n",
      "1  2012       Ford       X5     Sport  Sedan       Manual  4625712216    FL   \n",
      "2  2017      Honda    F-150    Luxury  Coupe    Automatic  3207586999    CA   \n",
      "3  2018  Chevrolet  Corolla  Off-Road    SUV    Automatic  3980918883    NY   \n",
      "4  2016     Toyota    F-150  Off-Road  Coupe       Manual  3788293231    CA   \n",
      "5  2020      Honda    Civic    Luxury  Truck    Automatic  8450374358    FL   \n",
      "6  2008       Ford       X5  Off-Road  Sedan    Automatic  6690996914    TX   \n",
      "7  2011  Chevrolet    Civic  Off-Road  Coupe    Automatic  1439724189    NY   \n",
      "8  2020        BMW       X5    Luxury    SUV       Manual  1521609086    FL   \n",
      "9  2003      Honda   Malibu      Base  Coupe       Manual  1424583522    CA   \n",
      "\n",
      "   condition  odometer  color interior   seller       mmr  sellingprice  \\\n",
      "0          5     53723  White  Leather   Dealer  13960.39      12798.42   \n",
      "1          1    102491  Black    Cloth  Private  29362.87      31695.75   \n",
      "2          4    110364    Red  Leather  Private   6436.72       6466.43   \n",
      "3          3      6601  White    Cloth   Dealer  31442.65      30524.34   \n",
      "4          5    185100  Black  Leather   Dealer  31448.46      34093.62   \n",
      "5          3      2648    Red    Cloth  Private  35070.73      34499.80   \n",
      "6          5    111496  White    Cloth  Private  29175.54      26467.97   \n",
      "7          4    289281   Blue    Cloth  Private  47155.22      50326.40   \n",
      "8          3      6001  Black  Leather  Private   7586.21       7084.04   \n",
      "9          2     65902  White  Leather   Dealer  39777.13      41426.65   \n",
      "\n",
      "     saledate  \n",
      "0  07-04-2021  \n",
      "1  27-04-2022  \n",
      "2  30-08-2024  \n",
      "3  01-11-2022  \n",
      "4  12-07-2022  \n",
      "5  31-10-2022  \n",
      "6  20-12-2020  \n",
      "7  28-04-2024  \n",
      "8  06-03-2024  \n",
      "9  12-08-2023  \n"
     ]
    }
   ],
   "source": [
    "import pandas as pd\n",
    "df=pd.read_csv('C:\\SMEC\\Data_Science\\Project\\DATASET\\EXCEL\\synthetic_car_prices.csv')\n",
    "print(df.head(10))"
   ]
  },
  {
   "cell_type": "code",
   "execution_count": 3,
   "metadata": {},
   "outputs": [
    {
     "name": "stdout",
     "output_type": "stream",
     "text": [
      "      year       make   model      trim   body transmission         vin state  \\\n",
      "1990  2020     Toyota  Malibu     Sport  Coupe       Manual  8754191125    WA   \n",
      "1991  2017     Toyota   F-150    Luxury  Truck    Automatic  9712306981    WA   \n",
      "1992  2015       Ford   F-150      Base    SUV    Automatic  3348223502    WA   \n",
      "1993  2003     Toyota      X5     Sport  Truck       Manual  5854382482    TX   \n",
      "1994  2015     Toyota   Civic      Base  Coupe       Manual  5410662631    WA   \n",
      "1995  2020        BMW  Malibu     Sport  Sedan       Manual  4749057121    TX   \n",
      "1996  2014  Chevrolet   F-150  Off-Road    SUV       Manual  7896947888    TX   \n",
      "1997  2014      Honda   Civic  Off-Road  Sedan    Automatic  2898503163    TX   \n",
      "1998  2021        BMW  Malibu     Sport    SUV       Manual  9814566864    FL   \n",
      "1999  2019        BMW  Malibu  Off-Road  Sedan       Manual  4043267358    NY   \n",
      "\n",
      "      condition  odometer   color interior   seller       mmr  sellingprice  \\\n",
      "1990          1    138812  Silver    Cloth  Private  11744.71      12422.93   \n",
      "1991          2      6140    Blue  Leather   Dealer  45152.47      42621.83   \n",
      "1992          4    244045    Blue  Leather   Dealer  33586.15      36550.64   \n",
      "1993          1     19685  Silver    Cloth   Dealer   6546.85       6431.15   \n",
      "1994          5    233529  Silver  Leather   Dealer  13994.61      14050.87   \n",
      "1995          3    294424   White    Cloth  Private  35296.60      38185.05   \n",
      "1996          4    273470   Black    Cloth   Dealer  48715.45      50078.91   \n",
      "1997          5     34854   White    Cloth   Dealer  36569.68      39733.84   \n",
      "1998          5      6681     Red    Cloth   Dealer  20599.42      21377.55   \n",
      "1999          1    183191    Blue  Leather   Dealer  16632.54      16509.84   \n",
      "\n",
      "        saledate  \n",
      "1990  05-12-2020  \n",
      "1991  17-02-2024  \n",
      "1992  14-12-2022  \n",
      "1993  19-05-2022  \n",
      "1994  28-01-2023  \n",
      "1995  06-07-2021  \n",
      "1996  20-10-2024  \n",
      "1997  10-11-2021  \n",
      "1998  14-06-2022  \n",
      "1999  20-10-2022  \n"
     ]
    }
   ],
   "source": [
    "print(df.tail(10))"
   ]
  },
  {
   "cell_type": "markdown",
   "metadata": {},
   "source": [
    "To check the main information about the data used .info() function"
   ]
  },
  {
   "cell_type": "code",
   "execution_count": 4,
   "metadata": {},
   "outputs": [
    {
     "name": "stdout",
     "output_type": "stream",
     "text": [
      "<class 'pandas.core.frame.DataFrame'>\n",
      "RangeIndex: 2000 entries, 0 to 1999\n",
      "Data columns (total 16 columns):\n",
      " #   Column        Non-Null Count  Dtype  \n",
      "---  ------        --------------  -----  \n",
      " 0   year          2000 non-null   int64  \n",
      " 1   make          2000 non-null   object \n",
      " 2   model         2000 non-null   object \n",
      " 3   trim          2000 non-null   object \n",
      " 4   body          2000 non-null   object \n",
      " 5   transmission  2000 non-null   object \n",
      " 6   vin           2000 non-null   int64  \n",
      " 7   state         2000 non-null   object \n",
      " 8   condition     2000 non-null   int64  \n",
      " 9   odometer      2000 non-null   int64  \n",
      " 10  color         2000 non-null   object \n",
      " 11  interior      2000 non-null   object \n",
      " 12  seller        2000 non-null   object \n",
      " 13  mmr           2000 non-null   float64\n",
      " 14  sellingprice  2000 non-null   float64\n",
      " 15  saledate      2000 non-null   object \n",
      "dtypes: float64(2), int64(4), object(10)\n",
      "memory usage: 250.1+ KB\n",
      "None\n"
     ]
    }
   ],
   "source": [
    "print(df.info())"
   ]
  },
  {
   "cell_type": "markdown",
   "metadata": {},
   "source": [
    "checking the null values in data  "
   ]
  },
  {
   "cell_type": "code",
   "execution_count": 5,
   "metadata": {},
   "outputs": [
    {
     "name": "stdout",
     "output_type": "stream",
     "text": [
      "year            0\n",
      "make            0\n",
      "model           0\n",
      "trim            0\n",
      "body            0\n",
      "transmission    0\n",
      "vin             0\n",
      "state           0\n",
      "condition       0\n",
      "odometer        0\n",
      "color           0\n",
      "interior        0\n",
      "seller          0\n",
      "mmr             0\n",
      "sellingprice    0\n",
      "saledate        0\n",
      "dtype: int64\n"
     ]
    }
   ],
   "source": [
    "print(df.isna().sum())"
   ]
  },
  {
   "cell_type": "markdown",
   "metadata": {},
   "source": [
    "Droping all the null values in the data"
   ]
  },
  {
   "cell_type": "code",
   "execution_count": 6,
   "metadata": {},
   "outputs": [
    {
     "name": "stdout",
     "output_type": "stream",
     "text": [
      "year            0\n",
      "make            0\n",
      "model           0\n",
      "trim            0\n",
      "body            0\n",
      "transmission    0\n",
      "vin             0\n",
      "state           0\n",
      "condition       0\n",
      "odometer        0\n",
      "color           0\n",
      "interior        0\n",
      "seller          0\n",
      "mmr             0\n",
      "sellingprice    0\n",
      "saledate        0\n",
      "dtype: int64\n"
     ]
    }
   ],
   "source": [
    "df.dropna(inplace=True)\n",
    "print(df.isna().sum())\n"
   ]
  },
  {
   "cell_type": "code",
   "execution_count": 7,
   "metadata": {},
   "outputs": [
    {
     "name": "stdout",
     "output_type": "stream",
     "text": [
      "<class 'pandas.core.frame.DataFrame'>\n",
      "RangeIndex: 2000 entries, 0 to 1999\n",
      "Data columns (total 16 columns):\n",
      " #   Column        Non-Null Count  Dtype  \n",
      "---  ------        --------------  -----  \n",
      " 0   year          2000 non-null   int64  \n",
      " 1   make          2000 non-null   object \n",
      " 2   model         2000 non-null   object \n",
      " 3   trim          2000 non-null   object \n",
      " 4   body          2000 non-null   object \n",
      " 5   transmission  2000 non-null   object \n",
      " 6   vin           2000 non-null   int64  \n",
      " 7   state         2000 non-null   object \n",
      " 8   condition     2000 non-null   int64  \n",
      " 9   odometer      2000 non-null   int64  \n",
      " 10  color         2000 non-null   object \n",
      " 11  interior      2000 non-null   object \n",
      " 12  seller        2000 non-null   object \n",
      " 13  mmr           2000 non-null   float64\n",
      " 14  sellingprice  2000 non-null   float64\n",
      " 15  saledate      2000 non-null   object \n",
      "dtypes: float64(2), int64(4), object(10)\n",
      "memory usage: 250.1+ KB\n",
      "None\n"
     ]
    }
   ],
   "source": [
    "print(df.info())"
   ]
  },
  {
   "cell_type": "markdown",
   "metadata": {},
   "source": [
    "Correcting the date for further operation\n"
   ]
  },
  {
   "cell_type": "code",
   "execution_count": 8,
   "metadata": {},
   "outputs": [
    {
     "name": "stdout",
     "output_type": "stream",
     "text": [
      "<class 'pandas.core.frame.DataFrame'>\n",
      "RangeIndex: 2000 entries, 0 to 1999\n",
      "Data columns (total 16 columns):\n",
      " #   Column        Non-Null Count  Dtype  \n",
      "---  ------        --------------  -----  \n",
      " 0   year          2000 non-null   int64  \n",
      " 1   make          2000 non-null   object \n",
      " 2   model         2000 non-null   object \n",
      " 3   trim          2000 non-null   object \n",
      " 4   body          2000 non-null   object \n",
      " 5   transmission  2000 non-null   object \n",
      " 6   vin           2000 non-null   int64  \n",
      " 7   state         2000 non-null   object \n",
      " 8   condition     2000 non-null   int64  \n",
      " 9   odometer      2000 non-null   int64  \n",
      " 10  color         2000 non-null   object \n",
      " 11  interior      2000 non-null   object \n",
      " 12  seller        2000 non-null   object \n",
      " 13  mmr           2000 non-null   float64\n",
      " 14  sellingprice  2000 non-null   float64\n",
      " 15  saledate      2000 non-null   object \n",
      "dtypes: float64(2), int64(4), object(10)\n",
      "memory usage: 250.1+ KB\n",
      "None\n"
     ]
    }
   ],
   "source": [
    "import pandas as pd\n",
    "\n",
    "# Step 1: Load the data without converting 'saledate' to datetime\n",
    "df = pd.read_csv('C:\\SMEC\\Data_Science\\Project\\DATASET\\EXCEL\\synthetic_car_prices.csv')\n",
    "\n",
    "\n",
    "print(df.info())\n"
   ]
  },
  {
   "cell_type": "code",
   "execution_count": 9,
   "metadata": {},
   "outputs": [
    {
     "name": "stdout",
     "output_type": "stream",
     "text": [
      "\n",
      "After formatting:\n",
      "      year       make    model      trim   body transmission         vin  \\\n",
      "0     2007     Toyota   Malibu  Off-Road  Truck       Manual  1897112983   \n",
      "1     2012       Ford       X5     Sport  Sedan       Manual  4625712216   \n",
      "2     2017      Honda    F-150    Luxury  Coupe    Automatic  3207586999   \n",
      "3     2018  Chevrolet  Corolla  Off-Road    SUV    Automatic  3980918883   \n",
      "4     2016     Toyota    F-150  Off-Road  Coupe       Manual  3788293231   \n",
      "...    ...        ...      ...       ...    ...          ...         ...   \n",
      "1995  2020        BMW   Malibu     Sport  Sedan       Manual  4749057121   \n",
      "1996  2014  Chevrolet    F-150  Off-Road    SUV       Manual  7896947888   \n",
      "1997  2014      Honda    Civic  Off-Road  Sedan    Automatic  2898503163   \n",
      "1998  2021        BMW   Malibu     Sport    SUV       Manual  9814566864   \n",
      "1999  2019        BMW   Malibu  Off-Road  Sedan       Manual  4043267358   \n",
      "\n",
      "     state  condition  odometer  color interior   seller       mmr  \\\n",
      "0       TX          5     53723  White  Leather   Dealer  13960.39   \n",
      "1       FL          1    102491  Black    Cloth  Private  29362.87   \n",
      "2       CA          4    110364    Red  Leather  Private   6436.72   \n",
      "3       NY          3      6601  White    Cloth   Dealer  31442.65   \n",
      "4       CA          5    185100  Black  Leather   Dealer  31448.46   \n",
      "...    ...        ...       ...    ...      ...      ...       ...   \n",
      "1995    TX          3    294424  White    Cloth  Private  35296.60   \n",
      "1996    TX          4    273470  Black    Cloth   Dealer  48715.45   \n",
      "1997    TX          5     34854  White    Cloth   Dealer  36569.68   \n",
      "1998    FL          5      6681    Red    Cloth   Dealer  20599.42   \n",
      "1999    NY          1    183191   Blue  Leather   Dealer  16632.54   \n",
      "\n",
      "      sellingprice saledate formatted_date  \n",
      "0         12798.42      NaT            NaN  \n",
      "1         31695.75      NaT            NaN  \n",
      "2          6466.43      NaT            NaN  \n",
      "3         30524.34      NaT            NaN  \n",
      "4         34093.62      NaT            NaN  \n",
      "...            ...      ...            ...  \n",
      "1995      38185.05      NaT            NaN  \n",
      "1996      50078.91      NaT            NaN  \n",
      "1997      39733.84      NaT            NaN  \n",
      "1998      21377.55      NaT            NaN  \n",
      "1999      16509.84      NaT            NaN  \n",
      "\n",
      "[2000 rows x 17 columns]\n"
     ]
    }
   ],
   "source": [
    "# Clean the 'date' column by removing the timezone part\n",
    "df['cleaned_date'] = df['saledate'].str.extract(r'^(.*) GMT', expand=False)\n",
    "\n",
    "# Convert the cleaned date column to datetime\n",
    "df['saledate'] = pd.to_datetime(df['cleaned_date'], format='%a %b %d %Y %H:%M:%S', errors='coerce')\n",
    "\n",
    "# Create a formatted date column\n",
    "df['formatted_date'] = df['saledate'].dt.strftime(\"%d %Y %H:%M:%S\").fillna(\"NaN\")\n",
    "\n",
    "# Drop the temporary cleaned column\n",
    "df = df.drop(columns=['cleaned_date'])\n",
    "\n",
    "# Display the result\n",
    "print(\"\\nAfter formatting:\")\n",
    "print(df)"
   ]
  },
  {
   "cell_type": "code",
   "execution_count": 10,
   "metadata": {},
   "outputs": [
    {
     "name": "stdout",
     "output_type": "stream",
     "text": [
      "<class 'pandas.core.frame.DataFrame'>\n",
      "RangeIndex: 2000 entries, 0 to 1999\n",
      "Data columns (total 17 columns):\n",
      " #   Column          Non-Null Count  Dtype         \n",
      "---  ------          --------------  -----         \n",
      " 0   year            2000 non-null   int64         \n",
      " 1   make            2000 non-null   object        \n",
      " 2   model           2000 non-null   object        \n",
      " 3   trim            2000 non-null   object        \n",
      " 4   body            2000 non-null   object        \n",
      " 5   transmission    2000 non-null   object        \n",
      " 6   vin             2000 non-null   int64         \n",
      " 7   state           2000 non-null   object        \n",
      " 8   condition       2000 non-null   int64         \n",
      " 9   odometer        2000 non-null   int64         \n",
      " 10  color           2000 non-null   object        \n",
      " 11  interior        2000 non-null   object        \n",
      " 12  seller          2000 non-null   object        \n",
      " 13  mmr             2000 non-null   float64       \n",
      " 14  sellingprice    2000 non-null   float64       \n",
      " 15  saledate        0 non-null      datetime64[ns]\n",
      " 16  formatted_date  2000 non-null   object        \n",
      "dtypes: datetime64[ns](1), float64(2), int64(4), object(10)\n",
      "memory usage: 265.8+ KB\n"
     ]
    }
   ],
   "source": [
    "df.info()"
   ]
  },
  {
   "cell_type": "code",
   "execution_count": 11,
   "metadata": {},
   "outputs": [
    {
     "name": "stdout",
     "output_type": "stream",
     "text": [
      "   year       make    model      trim   body transmission         vin state  \\\n",
      "0  2007     Toyota   Malibu  Off-Road  Truck       Manual  1897112983    TX   \n",
      "1  2012       Ford       X5     Sport  Sedan       Manual  4625712216    FL   \n",
      "2  2017      Honda    F-150    Luxury  Coupe    Automatic  3207586999    CA   \n",
      "3  2018  Chevrolet  Corolla  Off-Road    SUV    Automatic  3980918883    NY   \n",
      "4  2016     Toyota    F-150  Off-Road  Coupe       Manual  3788293231    CA   \n",
      "5  2020      Honda    Civic    Luxury  Truck    Automatic  8450374358    FL   \n",
      "6  2008       Ford       X5  Off-Road  Sedan    Automatic  6690996914    TX   \n",
      "7  2011  Chevrolet    Civic  Off-Road  Coupe    Automatic  1439724189    NY   \n",
      "8  2020        BMW       X5    Luxury    SUV       Manual  1521609086    FL   \n",
      "9  2003      Honda   Malibu      Base  Coupe       Manual  1424583522    CA   \n",
      "\n",
      "   condition  odometer  color interior   seller       mmr  sellingprice  \\\n",
      "0          5     53723  White  Leather   Dealer  13960.39      12798.42   \n",
      "1          1    102491  Black    Cloth  Private  29362.87      31695.75   \n",
      "2          4    110364    Red  Leather  Private   6436.72       6466.43   \n",
      "3          3      6601  White    Cloth   Dealer  31442.65      30524.34   \n",
      "4          5    185100  Black  Leather   Dealer  31448.46      34093.62   \n",
      "5          3      2648    Red    Cloth  Private  35070.73      34499.80   \n",
      "6          5    111496  White    Cloth  Private  29175.54      26467.97   \n",
      "7          4    289281   Blue    Cloth  Private  47155.22      50326.40   \n",
      "8          3      6001  Black  Leather  Private   7586.21       7084.04   \n",
      "9          2     65902  White  Leather   Dealer  39777.13      41426.65   \n",
      "\n",
      "  saledate formatted_date  \n",
      "0      NaT            NaN  \n",
      "1      NaT            NaN  \n",
      "2      NaT            NaN  \n",
      "3      NaT            NaN  \n",
      "4      NaT            NaN  \n",
      "5      NaT            NaN  \n",
      "6      NaT            NaN  \n",
      "7      NaT            NaN  \n",
      "8      NaT            NaN  \n",
      "9      NaT            NaN  \n"
     ]
    }
   ],
   "source": [
    "df['saledate'] = pd.to_datetime(df['saledate'])\n",
    "print(df.head(10))"
   ]
  },
  {
   "cell_type": "markdown",
   "metadata": {},
   "source": [
    "### Statistical Analysis \n",
    "### Using the data for stastical analysis to interprect the data"
   ]
  },
  {
   "cell_type": "markdown",
   "metadata": {},
   "source": [
    "Using describe function for statistical analysis"
   ]
  },
  {
   "cell_type": "code",
   "execution_count": 12,
   "metadata": {},
   "outputs": [
    {
     "name": "stdout",
     "output_type": "stream",
     "text": [
      "              year           vin    condition       odometer           mmr  \\\n",
      "count  2000.000000  2.000000e+03  2000.000000    2000.000000   2000.000000   \n",
      "mean   2012.161000  5.661831e+09     2.993000  147611.042500  27220.791575   \n",
      "min    2000.000000  1.002280e+09     1.000000     669.000000   5002.800000   \n",
      "25%    2006.000000  3.379255e+09     2.000000   75414.000000  15848.515000   \n",
      "50%    2012.000000  5.831975e+09     3.000000  144890.500000  27148.235000   \n",
      "75%    2018.000000  7.902723e+09     4.000000  218215.750000  38284.135000   \n",
      "max    2024.000000  9.996034e+09     5.000000  299971.000000  49997.870000   \n",
      "std       7.054074  2.592230e+09     1.413135   84498.981716  12984.257704   \n",
      "\n",
      "       sellingprice saledate  \n",
      "count   2000.000000        0  \n",
      "mean   27235.441760      NaT  \n",
      "min     4669.680000      NaT  \n",
      "25%    15621.465000      NaT  \n",
      "50%    26972.585000      NaT  \n",
      "75%    38186.202500      NaT  \n",
      "max    54425.130000      NaT  \n",
      "std    13168.425113      NaN  \n"
     ]
    }
   ],
   "source": [
    "print(df.describe())"
   ]
  },
  {
   "cell_type": "markdown",
   "metadata": {},
   "source": [
    "using correlation function for statistical analysis"
   ]
  },
  {
   "cell_type": "code",
   "execution_count": 13,
   "metadata": {},
   "outputs": [
    {
     "name": "stdout",
     "output_type": "stream",
     "text": [
      "                  year       vin  condition  odometer       mmr  sellingprice\n",
      "year          1.000000  0.045603   0.033937 -0.008218 -0.029494     -0.026331\n",
      "vin           0.045603  1.000000   0.012965 -0.054955 -0.006585     -0.006671\n",
      "condition     0.033937  0.012965   1.000000  0.047900  0.020100      0.018693\n",
      "odometer     -0.008218 -0.054955   0.047900  1.000000  0.008751      0.008939\n",
      "mmr          -0.029494 -0.006585   0.020100  0.008751  1.000000      0.990740\n",
      "sellingprice -0.026331 -0.006671   0.018693  0.008939  0.990740      1.000000\n"
     ]
    }
   ],
   "source": [
    "print(df.corr(numeric_only=True))"
   ]
  },
  {
   "cell_type": "markdown",
   "metadata": {},
   "source": [
    "using covariance function for statistical"
   ]
  },
  {
   "cell_type": "code",
   "execution_count": 14,
   "metadata": {},
   "outputs": [
    {
     "name": "stdout",
     "output_type": "stream",
     "text": [
      "                      year           vin     condition      odometer  \\\n",
      "year          4.975996e+01  8.338790e+08  3.382961e-01 -4.898487e+03   \n",
      "vin           8.338790e+08  6.719658e+18  4.749446e+07 -1.203737e+13   \n",
      "condition     3.382961e-01  4.749446e+07  1.996949e+00  5.719688e+03   \n",
      "odometer     -4.898487e+03 -1.203737e+13  5.719688e+03  7.140078e+09   \n",
      "mmr          -2.701411e+03 -2.216432e+11  3.688034e+02  9.601260e+06   \n",
      "sellingprice -2.445956e+03 -2.277202e+11  3.478562e+02  9.946968e+06   \n",
      "\n",
      "                       mmr  sellingprice  \n",
      "year         -2.701411e+03 -2.445956e+03  \n",
      "vin          -2.216432e+11 -2.277202e+11  \n",
      "condition     3.688034e+02  3.478562e+02  \n",
      "odometer      9.601260e+06  9.946968e+06  \n",
      "mmr           1.685909e+08  1.693989e+08  \n",
      "sellingprice  1.693989e+08  1.734074e+08  \n"
     ]
    }
   ],
   "source": [
    "print(df.cov(numeric_only=True))"
   ]
  },
  {
   "cell_type": "markdown",
   "metadata": {},
   "source": [
    "### Question analysis"
   ]
  },
  {
   "cell_type": "markdown",
   "metadata": {},
   "source": [
    "1.which car maker has sold most number of cars?"
   ]
  },
  {
   "cell_type": "code",
   "execution_count": 15,
   "metadata": {},
   "outputs": [
    {
     "name": "stdout",
     "output_type": "stream",
     "text": [
      "                   year  model  trim  body  transmission  vin  state  \\\n",
      "make      seller                                                       \n",
      "BMW       Dealer    204    204   204   204           204  204    204   \n",
      "          Private   184    184   184   184           184  184    184   \n",
      "Chevrolet Dealer    195    195   195   195           195  195    195   \n",
      "          Private   208    208   208   208           208  208    208   \n",
      "Ford      Dealer    189    189   189   189           189  189    189   \n",
      "          Private   207    207   207   207           207  207    207   \n",
      "Honda     Dealer    205    205   205   205           205  205    205   \n",
      "          Private   212    212   212   212           212  212    212   \n",
      "Toyota    Dealer    204    204   204   204           204  204    204   \n",
      "          Private   192    192   192   192           192  192    192   \n",
      "\n",
      "                   condition  odometer  color  interior  mmr  sellingprice  \\\n",
      "make      seller                                                             \n",
      "BMW       Dealer         204       204    204       204  204           204   \n",
      "          Private        184       184    184       184  184           184   \n",
      "Chevrolet Dealer         195       195    195       195  195           195   \n",
      "          Private        208       208    208       208  208           208   \n",
      "Ford      Dealer         189       189    189       189  189           189   \n",
      "          Private        207       207    207       207  207           207   \n",
      "Honda     Dealer         205       205    205       205  205           205   \n",
      "          Private        212       212    212       212  212           212   \n",
      "Toyota    Dealer         204       204    204       204  204           204   \n",
      "          Private        192       192    192       192  192           192   \n",
      "\n",
      "                   saledate  formatted_date  \n",
      "make      seller                             \n",
      "BMW       Dealer          0             204  \n",
      "          Private         0             184  \n",
      "Chevrolet Dealer          0             195  \n",
      "          Private         0             208  \n",
      "Ford      Dealer          0             189  \n",
      "          Private         0             207  \n",
      "Honda     Dealer          0             205  \n",
      "          Private         0             212  \n",
      "Toyota    Dealer          0             204  \n",
      "          Private         0             192  \n"
     ]
    }
   ],
   "source": [
    "print(df.groupby(['make','seller']).agg('count'))\n"
   ]
  },
  {
   "cell_type": "code",
   "execution_count": 16,
   "metadata": {},
   "outputs": [
    {
     "name": "stdout",
     "output_type": "stream",
     "text": [
      "           seller\n",
      "make             \n",
      "Honda         417\n",
      "Chevrolet     403\n",
      "Ford          396\n",
      "Toyota        396\n",
      "BMW           388\n"
     ]
    }
   ],
   "source": [
    "pivot_df=pd.pivot_table(df,index='make',values='seller',aggfunc='count')\n",
    "# pivot_df.plot(kind='bar')\n",
    "# plt.xticks(rotation=90)\n",
    "# plt.show()\n",
    "print(pivot_df.sort_values(by='seller',ascending=False))"
   ]
  },
  {
   "cell_type": "code",
   "execution_count": 17,
   "metadata": {},
   "outputs": [
    {
     "data": {
      "image/png": "[encoded data removed]",
      "text/plain": [
       "<Figure size 1000x600 with 1 Axes>"
      ]
     },
     "metadata": {},
     "output_type": "display_data"
    }
   ],
   "source": [
    "plt.figure(figsize=(10,6))\n",
    "df['make'].hist(bins=10,edgecolor='blue')\n",
    "plt.title('Histogram Of make')\n",
    "plt.xlabel('car makers')\n",
    "plt.ylabel('frequency')\n",
    "plt.show()"
   ]
  },
  {
   "cell_type": "markdown",
   "metadata": {},
   "source": [
    "2. which car maker  has least sold out?"
   ]
  },
  {
   "cell_type": "code",
   "execution_count": 18,
   "metadata": {},
   "outputs": [
    {
     "name": "stdout",
     "output_type": "stream",
     "text": [
      "           seller\n",
      "make             \n",
      "BMW           388\n",
      "Ford          396\n",
      "Toyota        396\n",
      "Chevrolet     403\n",
      "Honda         417\n"
     ]
    }
   ],
   "source": [
    "pivot_df=pd.pivot_table(df,index='make',values='seller',aggfunc='count')\n",
    "print(pivot_df.sort_values(by='seller',ascending=True))"
   ]
  },
  {
   "cell_type": "code",
   "execution_count": 19,
   "metadata": {},
   "outputs": [
    {
     "data": {
      "image/png": "[encoded data removed]",
      "text/plain": [
       "<Figure size 1000x600 with 1 Axes>"
      ]
     },
     "metadata": {},
     "output_type": "display_data"
    }
   ],
   "source": [
    "plt.figure(figsize=(10,6))\n",
    "df['make'].value_counts(ascending=True).plot(kind='bar')\n",
    "plt.title('least sold')\n",
    "plt.xlabel('car sold')\n",
    "plt.ylabel('count')\n",
    "plt.show()"
   ]
  },
  {
   "cell_type": "markdown",
   "metadata": {},
   "source": [
    "3. which type of body type car has sold ?\n"
   ]
  },
  {
   "cell_type": "code",
   "execution_count": 20,
   "metadata": {},
   "outputs": [
    {
     "name": "stdout",
     "output_type": "stream",
     "text": [
      "       year  make  model  trim  transmission  vin  state  condition  odometer  \\\n",
      "body                                                                            \n",
      "Coupe   522   522    522   522           522  522    522        522       522   \n",
      "SUV     470   470    470   470           470  470    470        470       470   \n",
      "Sedan   503   503    503   503           503  503    503        503       503   \n",
      "Truck   505   505    505   505           505  505    505        505       505   \n",
      "\n",
      "       color  interior  seller  mmr  sellingprice  saledate  formatted_date  \n",
      "body                                                                         \n",
      "Coupe    522       522     522  522           522         0             522  \n",
      "SUV      470       470     470  470           470         0             470  \n",
      "Sedan    503       503     503  503           503         0             503  \n",
      "Truck    505       505     505  505           505         0             505  \n"
     ]
    },
    {
     "data": {
      "text/plain": [
       "body\n",
       "Coupe    522\n",
       "Truck    505\n",
       "Sedan    503\n",
       "SUV      470\n",
       "Name: count, dtype: int64"
      ]
     },
     "execution_count": 20,
     "metadata": {},
     "output_type": "execute_result"
    }
   ],
   "source": [
    "print(df.groupby(['body']).agg('count'))\n",
    "df['body'].value_counts(ascending=False)"
   ]
  },
  {
   "cell_type": "code",
   "execution_count": 21,
   "metadata": {},
   "outputs": [
    {
     "data": {
      "image/png": "[encoded data removed]",
      "text/plain": [
       "<Figure size 1000x600 with 1 Axes>"
      ]
     },
     "metadata": {},
     "output_type": "display_data"
    }
   ],
   "source": [
    "plt.figure(figsize=(10,6))\n",
    "df['body'].value_counts().plot(kind='bar')\n",
    "plt.title('car body type')\n",
    "plt.xlabel('body type')\n",
    "plt.ylabel('count')\n",
    "plt.show()"
   ]
  },
  {
   "cell_type": "code",
   "execution_count": 22,
   "metadata": {},
   "outputs": [
    {
     "data": {
      "text/plain": [
       "array([2007, 2012, 2017, 2018, 2016, 2020, 2008, 2011, 2003, 2021, 2001,\n",
       "       2000, 2005, 2024, 2019, 2009, 2023, 2013, 2022, 2004, 2014, 2002,\n",
       "       2010, 2015, 2006])"
      ]
     },
     "execution_count": 22,
     "metadata": {},
     "output_type": "execute_result"
    }
   ],
   "source": [
    "df['year'].unique()"
   ]
  },
  {
   "cell_type": "markdown",
   "metadata": {},
   "source": [
    "4. which car has highest selling price?\n"
   ]
  },
  {
   "cell_type": "code",
   "execution_count": 23,
   "metadata": {},
   "outputs": [
    {
     "name": "stdout",
     "output_type": "stream",
     "text": [
      "year                    2005\n",
      "make               Chevrolet\n",
      "model                  F-150\n",
      "trim                   Sport\n",
      "body                   Truck\n",
      "transmission          Manual\n",
      "vin               4938994610\n",
      "state                     CA\n",
      "condition                  2\n",
      "odometer              259591\n",
      "color                 Silver\n",
      "interior               Cloth\n",
      "seller               Private\n",
      "mmr                 49951.09\n",
      "sellingprice        54425.13\n",
      "saledate                 NaT\n",
      "formatted_date           NaN\n",
      "Name: 705, dtype: object\n"
     ]
    }
   ],
   "source": [
    "max_num=df.loc[df['sellingprice'].idxmax()]\n",
    "print(max_num)"
   ]
  },
  {
   "cell_type": "markdown",
   "metadata": {},
   "source": [
    "5. which car has least selling price?"
   ]
  },
  {
   "cell_type": "code",
   "execution_count": 24,
   "metadata": {},
   "outputs": [
    {
     "name": "stdout",
     "output_type": "stream",
     "text": [
      "year                    2020\n",
      "make                     BMW\n",
      "model                Corolla\n",
      "trim                  Luxury\n",
      "body                   Sedan\n",
      "transmission       Automatic\n",
      "vin               7884562047\n",
      "state                     TX\n",
      "condition                  4\n",
      "odometer                7358\n",
      "color                    Red\n",
      "interior               Cloth\n",
      "seller                Dealer\n",
      "mmr                  5154.11\n",
      "sellingprice         4669.68\n",
      "saledate                 NaT\n",
      "formatted_date           NaN\n",
      "Name: 1090, dtype: object\n"
     ]
    }
   ],
   "source": [
    "min_num=df.loc[df['sellingprice'].idxmin()]\n",
    "print(min_num)"
   ]
  },
  {
   "cell_type": "markdown",
   "metadata": {},
   "source": [
    "6. which transmission most used?\n"
   ]
  },
  {
   "cell_type": "code",
   "execution_count": 25,
   "metadata": {},
   "outputs": [
    {
     "data": {
      "text/plain": [
       "transmission\n",
       "Manual       1012\n",
       "Automatic     988\n",
       "Name: count, dtype: int64"
      ]
     },
     "execution_count": 25,
     "metadata": {},
     "output_type": "execute_result"
    }
   ],
   "source": [
    "df['transmission'].value_counts()"
   ]
  },
  {
   "cell_type": "code",
   "execution_count": 26,
   "metadata": {},
   "outputs": [
    {
     "data": {
      "image/png": "[encoded data removed]",
      "text/plain": [
       "<Figure size 1000x600 with 1 Axes>"
      ]
     },
     "metadata": {},
     "output_type": "display_data"
    }
   ],
   "source": [
    "plt.figure(figsize=(10,6))\n",
    "df['transmission'].hist(bins=10,edgecolor='blue')\n",
    "plt.title('Histogram Of Transmission')\n",
    "plt.xlabel('transmission')\n",
    "plt.ylabel('frequency')\n",
    "plt.show()"
   ]
  },
  {
   "cell_type": "markdown",
   "metadata": {},
   "source": [
    "7. Types of delears?"
   ]
  },
  {
   "cell_type": "code",
   "execution_count": 45,
   "metadata": {},
   "outputs": [
    {
     "name": "stdout",
     "output_type": "stream",
     "text": [
      "seller\n",
      "Private    1003\n",
      "Dealer      997\n",
      "Name: count, dtype: int64\n"
     ]
    }
   ],
   "source": [
    "print(df['seller'].value_counts())"
   ]
  },
  {
   "cell_type": "code",
   "execution_count": 46,
   "metadata": {},
   "outputs": [
    {
     "data": {
      "image/png": "[encoded data removed]",
      "text/plain": [
       "<Figure size 600x500 with 1 Axes>"
      ]
     },
     "metadata": {},
     "output_type": "display_data"
    }
   ],
   "source": [
    "plt.figure(figsize=(6,5))\n",
    "df['seller'].value_counts().plot(kind='pie',autopct='%1.1f%%')\n",
    "plt.title('interior color')\n",
    "plt.show()"
   ]
  },
  {
   "cell_type": "markdown",
   "metadata": {},
   "source": [
    "8. which is the least sold car colour?"
   ]
  },
  {
   "cell_type": "code",
   "execution_count": 27,
   "metadata": {},
   "outputs": [
    {
     "name": "stdout",
     "output_type": "stream",
     "text": [
      "color\n",
      "Blue      393\n",
      "Red       399\n",
      "White     401\n",
      "Silver    401\n",
      "Black     406\n",
      "Name: count, dtype: int64\n"
     ]
    }
   ],
   "source": [
    "print(df['color'].value_counts(ascending=True))"
   ]
  },
  {
   "cell_type": "code",
   "execution_count": 28,
   "metadata": {},
   "outputs": [
    {
     "data": {
      "image/png": "[encoded data removed]",
      "text/plain": [
       "<Figure size 1000x600 with 1 Axes>"
      ]
     },
     "metadata": {},
     "output_type": "display_data"
    }
   ],
   "source": [
    "plt.figure(figsize=(10,6))\n",
    "df['color'].value_counts().plot(kind='bar')\n",
    "plt.plot(kind='bar')\n",
    "plt.title('color count')\n",
    "plt.xlabel('color')\n",
    "plt.ylabel('count')\n",
    "plt.show()"
   ]
  },
  {
   "cell_type": "markdown",
   "metadata": {},
   "source": [
    "9. which car has most distance travelled?"
   ]
  },
  {
   "cell_type": "code",
   "execution_count": 29,
   "metadata": {},
   "outputs": [
    {
     "name": "stdout",
     "output_type": "stream",
     "text": [
      "year                    2003\n",
      "make                   Honda\n",
      "model                 Malibu\n",
      "trim                    Base\n",
      "body                     SUV\n",
      "transmission       Automatic\n",
      "vin               1623567270\n",
      "state                     NY\n",
      "condition                  2\n",
      "odometer              299971\n",
      "color                    Red\n",
      "interior               Cloth\n",
      "seller               Private\n",
      "mmr                 47946.12\n",
      "sellingprice         46187.8\n",
      "saledate                 NaT\n",
      "formatted_date           NaN\n",
      "Name: 1662, dtype: object\n"
     ]
    }
   ],
   "source": [
    "max_run=df.loc[df['odometer'].idxmax()]\n",
    "print(max_run)"
   ]
  },
  {
   "cell_type": "markdown",
   "metadata": {},
   "source": [
    "10. which car has least distance travelled?"
   ]
  },
  {
   "cell_type": "code",
   "execution_count": 30,
   "metadata": {},
   "outputs": [
    {
     "name": "stdout",
     "output_type": "stream",
     "text": [
      "year                    2003\n",
      "make               Chevrolet\n",
      "model                 Malibu\n",
      "trim                Off-Road\n",
      "body                   Sedan\n",
      "transmission          Manual\n",
      "vin               9455581234\n",
      "state                     FL\n",
      "condition                  5\n",
      "odometer                 669\n",
      "color                  Black\n",
      "interior               Cloth\n",
      "seller                Dealer\n",
      "mmr                 28080.31\n",
      "sellingprice        25788.34\n",
      "saledate                 NaT\n",
      "formatted_date           NaN\n",
      "Name: 1709, dtype: object\n"
     ]
    }
   ],
   "source": [
    "min_run=df.loc[df['odometer'].idxmin()]\n",
    "print(min_run)"
   ]
  },
  {
   "cell_type": "markdown",
   "metadata": {},
   "source": [
    "11. which model has the highest MMr Price?"
   ]
  },
  {
   "cell_type": "code",
   "execution_count": 31,
   "metadata": {},
   "outputs": [
    {
     "name": "stdout",
     "output_type": "stream",
     "text": [
      "year                    2000\n",
      "make                   Honda\n",
      "model                 Malibu\n",
      "trim                    Base\n",
      "body                     SUV\n",
      "transmission       Automatic\n",
      "vin               2580949102\n",
      "state                     TX\n",
      "condition                  2\n",
      "odometer               79853\n",
      "color                   Blue\n",
      "interior               Cloth\n",
      "seller                Dealer\n",
      "mmr                 49997.87\n",
      "sellingprice        47076.04\n",
      "saledate                 NaT\n",
      "formatted_date           NaN\n",
      "Name: 1230, dtype: object\n"
     ]
    }
   ],
   "source": [
    "print(df.loc[df['mmr'].idxmax()])\n"
   ]
  },
  {
   "cell_type": "code",
   "execution_count": 32,
   "metadata": {},
   "outputs": [
    {
     "data": {
      "image/png": "[encoded data removed]",
      "text/plain": [
       "<Figure size 800x600 with 1 Axes>"
      ]
     },
     "metadata": {},
     "output_type": "display_data"
    }
   ],
   "source": [
    "plt.figure(figsize=(8,6))\n",
    "df['mmr'].hist(bins=10,edgecolor='blue')\n",
    "plt.title('mmr pricing')\n",
    "plt.xlabel('mmr')\n",
    "plt.ylabel('count')\n",
    "plt.show()"
   ]
  },
  {
   "cell_type": "markdown",
   "metadata": {},
   "source": [
    "12. which interior color came most?"
   ]
  },
  {
   "cell_type": "code",
   "execution_count": 33,
   "metadata": {},
   "outputs": [
    {
     "name": "stdout",
     "output_type": "stream",
     "text": [
      "color\n",
      "Black     406\n",
      "White     401\n",
      "Silver    401\n",
      "Red       399\n",
      "Blue      393\n",
      "Name: count, dtype: int64\n"
     ]
    }
   ],
   "source": [
    "print(df['color'].value_counts(ascending=False))"
   ]
  },
  {
   "cell_type": "code",
   "execution_count": 34,
   "metadata": {},
   "outputs": [
    {
     "data": {
      "image/png": "[encoded data removed]",
      "text/plain": [
       "<Figure size 600x500 with 1 Axes>"
      ]
     },
     "metadata": {},
     "output_type": "display_data"
    }
   ],
   "source": [
    "plt.figure(figsize=(6,5))\n",
    "df['color'].value_counts().plot(kind='pie',autopct='%1.1f%%')\n",
    "plt.title('interior color')\n",
    "plt.show()"
   ]
  },
  {
   "cell_type": "markdown",
   "metadata": {},
   "source": [
    "13. which car maker has the most number of models?"
   ]
  },
  {
   "cell_type": "code",
   "execution_count": 35,
   "metadata": {},
   "outputs": [
    {
     "name": "stdout",
     "output_type": "stream",
     "text": [
      "make\n",
      "BMW          5\n",
      "Chevrolet    5\n",
      "Ford         5\n",
      "Honda        5\n",
      "Toyota       5\n",
      "Name: model, dtype: int64\n"
     ]
    }
   ],
   "source": [
    "mot_mdl=df.groupby('make')['model'].nunique().sort_values(ascending=False)\n",
    "print(mot_mdl)\n"
   ]
  },
  {
   "cell_type": "code",
   "execution_count": 36,
   "metadata": {},
   "outputs": [
    {
     "data": {
      "image/png": "[encoded data removed]",
      "text/plain": [
       "<Figure size 1000x600 with 1 Axes>"
      ]
     },
     "metadata": {},
     "output_type": "display_data"
    }
   ],
   "source": [
    "plt.figure(figsize=(10,6))\n",
    "mot_mdl.hist(bins=10,edgecolor='blue')\n",
    "plt.title('Histogram Of model')\n",
    "plt.xlabel('model')\n",
    "plt.ylabel('frequency')\n",
    "plt.show()"
   ]
  },
  {
   "cell_type": "markdown",
   "metadata": {},
   "source": [
    "14. which car the has most number of body types?"
   ]
  },
  {
   "cell_type": "code",
   "execution_count": 37,
   "metadata": {},
   "outputs": [
    {
     "name": "stdout",
     "output_type": "stream",
     "text": [
      "Coupe 1\n"
     ]
    }
   ],
   "source": [
    "bd_typ=df.groupby('body')['body'].nunique().sort_values(ascending=False)\n",
    "print(bd_typ.idxmax(),bd_typ.max())"
   ]
  },
  {
   "cell_type": "code",
   "execution_count": 38,
   "metadata": {},
   "outputs": [
    {
     "data": {
      "image/png": "[encoded data removed]",
      "text/plain": [
       "<Figure size 500x500 with 1 Axes>"
      ]
     },
     "metadata": {},
     "output_type": "display_data"
    }
   ],
   "source": [
    "plt.figure(figsize=(5,5))\n",
    "df['body'].value_counts().plot(kind='pie',autopct='%1.1f%%')\n",
    "plt.title('body type')\n",
    "plt.show()"
   ]
  },
  {
   "cell_type": "markdown",
   "metadata": {},
   "source": [
    "15. which model has least mmr price?"
   ]
  },
  {
   "cell_type": "code",
   "execution_count": 39,
   "metadata": {},
   "outputs": [
    {
     "name": "stdout",
     "output_type": "stream",
     "text": [
      "year                    2014\n",
      "make                     BMW\n",
      "model                  Civic\n",
      "trim                Off-Road\n",
      "body                     SUV\n",
      "transmission       Automatic\n",
      "vin               9210381469\n",
      "state                     NY\n",
      "condition                  2\n",
      "odometer              154544\n",
      "color                    Red\n",
      "interior             Leather\n",
      "seller                Dealer\n",
      "mmr                   5002.8\n",
      "sellingprice         5453.92\n",
      "saledate                 NaT\n",
      "formatted_date           NaN\n",
      "Name: 1338, dtype: object\n"
     ]
    }
   ],
   "source": [
    "print(df.loc[df['mmr'].idxmin()])"
   ]
  },
  {
   "cell_type": "code",
   "execution_count": 41,
   "metadata": {},
   "outputs": [
    {
     "data": {
      "image/png": "[encoded data removed]",
      "text/plain": [
       "<Figure size 800x600 with 1 Axes>"
      ]
     },
     "metadata": {},
     "output_type": "display_data"
    }
   ],
   "source": [
    "plt.figure(figsize=(8,6))\n",
    "df.groupby('model')['mmr'].min().sort_values(ascending=True).plot(kind='bar')\n",
    "plt.title('mmr pricing')\n",
    "plt.xlabel('models')\n",
    "plt.ylabel('price')\n",
    "plt.xticks(rotation=90)\n",
    "plt.show()"
   ]
  },
  {
   "cell_type": "markdown",
   "metadata": {},
   "source": [
    "### summary of findings"
   ]
  },
  {
   "cell_type": "markdown",
   "metadata": {},
   "source": [
    ". Most sold car: Honda has the most sold in our dataset, with a total of 417 cars.\n",
    "\n",
    ". Most sold car Body Types: coupe has the most number of body types, with a total of 522 body types sold.\n",
    "\n",
    ". Model with the Highest MM Price: Model malibu has the highest MM Price, with a value of 49997.87.\n",
    "\n",
    ". Model with the Least MM Price: Model civic has the least MM Price, with a value of 5002.8.\n",
    "\n",
    "These findings provide a general overview of the characteristics of cars in our dataset. They can be used as a starting point for further analysis and visualization.\n",
    "\n",
    "Future Directions\n",
    "\n",
    "Some potential future directions for this project include:\n",
    "\n",
    ". Analyzing the relationship between MM Price and other variables, such as body type and model year.\n",
    "\n",
    ". Visualizing the distribution of MM Prices for different car makers and models.\n",
    "\n",
    ". Identifying outliers in the data.\n",
    "\n"
   ]
  }
 ],
 "metadata": {
  "kernelspec": {
   "display_name": "Python 3",
   "language": "python",
   "name": "python3"
  },
  "language_info": {
   "codemirror_mode": {
    "name": "ipython",
    "version": 3
   },
   "file_extension": ".py",
   "mimetype": "text/x-python",
   "name": "python",
   "nbconvert_exporter": "python",
   "pygments_lexer": "ipython3",
   "version": "3.10.11"
  }
 },
 "nbformat": 4,
 "nbformat_minor": 2
}
